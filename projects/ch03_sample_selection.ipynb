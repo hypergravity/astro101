{
 "cells": [
  {
   "cell_type": "markdown",
   "id": "a134758e-978b-406f-92b2-481fd46fb58e",
   "metadata": {},
   "source": [
    "## 从LAMOST DR12中选取M31天区天体样本"
   ]
  },
  {
   "cell_type": "markdown",
   "id": "df11ac3c-e564-44e1-a98e-90c011dcfb09",
   "metadata": {},
   "source": [
    "- LAMOST官网：https://www.lamost.org/dr12\n",
    "- 任务：\n",
    "  - 从LAMOST网站，用cone搜索方法，指定M31的坐标（ra,dec），搜索半径radius(arcsec)\n",
    "  - 得到一个星表和对应的光谱文件\n",
    "  - 比如，有1000颗恒星，表里应该包含1000行，并且有1000个对应的光谱文件`.fits.gz`结尾"
   ]
  },
  {
   "cell_type": "code",
   "execution_count": null,
   "id": "a3ed0b57-e9a6-4001-8e97-2d3ca61c80ee",
   "metadata": {},
   "outputs": [],
   "source": []
  }
 ],
 "metadata": {
  "kernelspec": {
   "display_name": "Python 3 (ipykernel)",
   "language": "python",
   "name": "python3"
  },
  "language_info": {
   "codemirror_mode": {
    "name": "ipython",
    "version": 3
   },
   "file_extension": ".py",
   "mimetype": "text/x-python",
   "name": "python",
   "nbconvert_exporter": "python",
   "pygments_lexer": "ipython3",
   "version": "3.11.4"
  }
 },
 "nbformat": 4,
 "nbformat_minor": 5
}
